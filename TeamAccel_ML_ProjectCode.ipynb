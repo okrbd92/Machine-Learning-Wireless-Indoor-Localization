{
 "cells": [
  {
   "cell_type": "markdown",
   "id": "906af7a1-80ff-461b-8c4c-4f168b7e1902",
   "metadata": {
    "tags": []
   },
   "source": [
    "# Team Accel \n",
    "\n",
    "#### *Project: Comparing different Machine Learning algorithms in classifying user localization in an indoor environment*\n",
    "\n",
    
    "#### Source: __[Indoor Localization Data](https://code.datasciencedojo.com/datasciencedojo/datasets/tree/master/Wireless%20Indoor%20Localization)__\n",
    "\n",
    "How to run code: \n",
    "1. Go to this link to download the dataset: \n",
    "Source: __[Data file](https://drive.google.com/file/d/1op9VmjKCFJJKdq3LBZhQJV8gqCE7GzBL/view?usp=sharing)__\n",
    "\n",
    "2. Place dataset file into same directory where Jupyter Notebook is being run\n",
    "\n",
    "3. Either run each cell separately or run full notebook\n",
    "\n",
    "***Note:*** Running separately allows for easier overview\n",
    "\n",
    "-------------------"
   ]
  },
  {
   "cell_type": "markdown",
   "id": "e6f290ce-bcf5-45cf-bcd4-39ff6814606e",
   "metadata": {},
   "source": [
    "## Neural Network Implementation, by James Clark"
   ]
  },
  {
   "cell_type": "code",
   "execution_count": 287,
   "id": "4af15f9e-d30c-4ed7-b021-82058448e506",
   "metadata": {},
   "outputs": [],
   "source": [
    "import pandas as pd  #data processing\n",
    "import numpy as np   #linear algebra\n",
    "import matplotlib.pyplot as plt #plotting\n",
    "\n",
    "from sklearn.model_selection import train_test_split\n",
    "from sklearn.model_selection import cross_val_score\n",
    "from sklearn.model_selection import KFold\n",
    "from sklearn.pipeline import Pipeline\n",
    "from sklearn.preprocessing import MinMaxScaler\n",
    "from sklearn import metrics\n",
    "from sklearn.metrics import roc_curve, auc\n",
    "from sklearn.metrics import classification_report, confusion_matrix\n",
    "\n",
    "import tensorflow as tf\n",
    "\n",
    "from keras.models import Sequential\n",
    "from keras.layers import Dense\n",
    "from keras.layers import Dropout\n",
    "from keras.wrappers.scikit_learn import KerasRegressor\n",
    "from keras.utils import np_utils"
   ]
  },
  {
   "cell_type": "code",
   "execution_count": 288,
   "id": "d4403913-0614-4054-96f7-cab7dc249aa1",
   "metadata": {},
   "outputs": [],
   "source": [
    "#load the dataset\n",
    "dataset = pd.read_csv('wifi_localization_data.csv')\n",
    "\n",
    "#extract the target variable vector, and the independent attribute matrix\n",
    "Y = dataset.iloc[:,7:8].values\n",
    "X = dataset.iloc[:,0:7].values"
   ]
  },
  {
   "cell_type": "code",
   "execution_count": 289,
   "id": "c1da17c1-3fcf-403a-980c-177bd24014f4",
   "metadata": {},
   "outputs": [],
   "source": [
    "#preprocessing -- make target value from 0-3 instead of 1-4, for ANN\n",
    "Y = Y - 1\n",
    "\n",
    "#preprocessing -- make target value into categorical attribute vector\n",
    "Y_categorical = np_utils.to_categorical(Y)\n",
    "\n",
    "#preprocessing -- normalize the independent attribute matrix\n",
    "scalerX = MinMaxScaler()\n",
    "scalerX.fit(X)\n",
    "\n",
    "xscale = scalerX.transform(X)"
   ]
  },
  {
   "cell_type": "code",
   "execution_count": 290,
   "id": "6fb9721b-c759-4802-b7d1-3783cb233d84",
   "metadata": {},
   "outputs": [],
   "source": [
    "#training -- generate the test/train split with 25% training \n",
    "X_train, X_test, Y_train, Y_test = train_test_split(xscale, Y_categorical)\n",
    "\n",
    "#network 2\n",
    "\n",
    "#build the neural network\n",
    "model = Sequential()\n",
    "#network 1\n",
    "\n",
    "#model.add(Dense(64, input_dim=7, kernel_initializer='random_normal', activation='relu'))\n",
    "#model.add(Dense(4, activation='sigmoid'))\n",
    "#model.add(Dense(4, activation='sigmoid'))\n",
    "\n",
    "#network 2\n",
    "\n",
    "#model.add(Dense(64, input_dim=7, kernel_initializer='random_normal', activation='relu'))\n",
    "#model.add(Dense(32, activation='relu'))\n",
    "#model.add(Dense(16, activation='relu'))\n",
    "#model.add(Dense(8, activation='relu'))\n",
    "#model.add(Dense(4, activation='sigmoid'))\n",
    "\n",
    "\n",
    "#network 3\n",
    "\n",
    "model.add(Dense(64, input_dim=7, kernel_initializer='random_normal', activation='relu'))\n",
    "model.add(Dropout(0.2))\n",
    "model.add(Dense(32, activation='relu'))\n",
    "model.add(Dense(16, activation='relu'))\n",
    "model.add(Dense(8, activation='relu'))\n",
    "model.add(Dropout(0.2))\n",
    "model.add(Dense(4, activation='sigmoid'))"
   ]
  },
  {
   "cell_type": "code",
   "execution_count": 291,
   "id": "5f956505-4aaa-458a-b9e1-a478b40b2448",
   "metadata": {},
   "outputs": [
    {
     "name": "stdout",
     "output_type": "stream",
     "text": [
      "Model: \"sequential_4\"\n",
      "_________________________________________________________________\n",
      "Layer (type)                 Output Shape              Param #   \n",
      "=================================================================\n",
      "dense_16 (Dense)             (None, 64)                512       \n",
      "_________________________________________________________________\n",
      "dropout (Dropout)            (None, 64)                0         \n",
      "_________________________________________________________________\n",
      "dense_17 (Dense)             (None, 32)                2080      \n",
      "_________________________________________________________________\n",
      "dense_18 (Dense)             (None, 16)                528       \n",
      "_________________________________________________________________\n",
      "dense_19 (Dense)             (None, 8)                 136       \n",
      "_________________________________________________________________\n",
      "dropout_1 (Dropout)          (None, 8)                 0         \n",
      "_________________________________________________________________\n",
      "dense_20 (Dense)             (None, 4)                 36        \n",
      "=================================================================\n",
      "Total params: 3,292\n",
      "Trainable params: 3,292\n",
      "Non-trainable params: 0\n",
      "_________________________________________________________________\n",
      "Epoch 1/75\n",
      "12/12 [==============================] - 2s 160ms/step - loss: 1.3852 - mse: 0.2488 - mae: 0.4987 - accuracy: 0.2675 - val_loss: 1.3827 - val_mse: 0.2481 - val_mae: 0.4979 - val_accuracy: 0.2500\n",
      "Epoch 2/75\n",
      "12/12 [==============================] - 0s 23ms/step - loss: 1.3819 - mse: 0.2477 - mae: 0.4975 - accuracy: 0.2817 - val_loss: 1.3799 - val_mse: 0.2474 - val_mae: 0.4973 - val_accuracy: 0.2533\n",
      "Epoch 3/75\n",
      "12/12 [==============================] - 0s 23ms/step - loss: 1.3785 - mse: 0.2469 - mae: 0.4966 - accuracy: 0.3017 - val_loss: 1.3767 - val_mse: 0.2464 - val_mae: 0.4962 - val_accuracy: 0.2600\n",
      "Epoch 4/75\n",
      "12/12 [==============================] - 0s 25ms/step - loss: 1.3757 - mse: 0.2458 - mae: 0.4954 - accuracy: 0.3275 - val_loss: 1.3737 - val_mse: 0.2456 - val_mae: 0.4954 - val_accuracy: 0.3067\n",
      "Epoch 5/75\n",
      "12/12 [==============================] - 0s 22ms/step - loss: 1.3703 - mse: 0.2443 - mae: 0.4938 - accuracy: 0.3742 - val_loss: 1.3697 - val_mse: 0.2441 - val_mae: 0.4936 - val_accuracy: 0.3167\n",
      "Epoch 6/75\n",
      "12/12 [==============================] - 0s 24ms/step - loss: 1.3676 - mse: 0.2433 - mae: 0.4926 - accuracy: 0.3533 - val_loss: 1.3649 - val_mse: 0.2428 - val_mae: 0.4921 - val_accuracy: 0.3167\n",
      "Epoch 7/75\n",
      "12/12 [==============================] - 0s 20ms/step - loss: 1.3602 - mse: 0.2414 - mae: 0.4904 - accuracy: 0.3825 - val_loss: 1.3591 - val_mse: 0.2411 - val_mae: 0.4902 - val_accuracy: 0.3467\n",
      "Epoch 8/75\n",
      "12/12 [==============================] - 0s 22ms/step - loss: 1.3518 - mse: 0.2386 - mae: 0.4872 - accuracy: 0.3992 - val_loss: 1.3523 - val_mse: 0.2385 - val_mae: 0.4872 - val_accuracy: 0.3700\n",
      "Epoch 9/75\n",
      "12/12 [==============================] - 0s 21ms/step - loss: 1.3441 - mse: 0.2358 - mae: 0.4837 - accuracy: 0.4125 - val_loss: 1.3433 - val_mse: 0.2355 - val_mae: 0.4836 - val_accuracy: 0.4067\n",
      "Epoch 10/75\n",
      "12/12 [==============================] - 0s 22ms/step - loss: 1.3301 - mse: 0.2314 - mae: 0.4783 - accuracy: 0.4142 - val_loss: 1.3308 - val_mse: 0.2313 - val_mae: 0.4785 - val_accuracy: 0.4067\n",
      "Epoch 11/75\n",
      "12/12 [==============================] - 0s 22ms/step - loss: 1.3172 - mse: 0.2276 - mae: 0.4731 - accuracy: 0.4158 - val_loss: 1.3160 - val_mse: 0.2268 - val_mae: 0.4727 - val_accuracy: 0.4133\n",
      "Epoch 12/75\n",
      "12/12 [==============================] - 0s 23ms/step - loss: 1.2959 - mse: 0.2211 - mae: 0.4639 - accuracy: 0.4242 - val_loss: 1.2969 - val_mse: 0.2210 - val_mae: 0.4645 - val_accuracy: 0.4200\n",
      "Epoch 13/75\n",
      "12/12 [==============================] - 0s 22ms/step - loss: 1.2713 - mse: 0.2149 - mae: 0.4536 - accuracy: 0.4308 - val_loss: 1.2724 - val_mse: 0.2147 - val_mae: 0.4543 - val_accuracy: 0.4200\n",
      "Epoch 14/75\n",
      "12/12 [==============================] - 0s 22ms/step - loss: 1.2517 - mse: 0.2099 - mae: 0.4436 - accuracy: 0.4108 - val_loss: 1.2435 - val_mse: 0.2087 - val_mae: 0.4441 - val_accuracy: 0.4233\n",
      "Epoch 15/75\n",
      "12/12 [==============================] - 0s 20ms/step - loss: 1.2196 - mse: 0.2052 - mae: 0.4324 - accuracy: 0.4200 - val_loss: 1.2125 - val_mse: 0.2031 - val_mae: 0.4325 - val_accuracy: 0.4233\n",
      "Epoch 16/75\n",
      "12/12 [==============================] - 0s 22ms/step - loss: 1.1925 - mse: 0.2014 - mae: 0.4219 - accuracy: 0.4250 - val_loss: 1.1805 - val_mse: 0.1973 - val_mae: 0.4204 - val_accuracy: 0.4267\n",
      "Epoch 17/75\n",
      "12/12 [==============================] - 0s 23ms/step - loss: 1.1574 - mse: 0.1953 - mae: 0.4061 - accuracy: 0.4200 - val_loss: 1.1452 - val_mse: 0.1931 - val_mae: 0.4082 - val_accuracy: 0.4267\n",
      "Epoch 18/75\n",
      "12/12 [==============================] - 0s 23ms/step - loss: 1.1146 - mse: 0.1909 - mae: 0.3906 - accuracy: 0.4367 - val_loss: 1.1079 - val_mse: 0.1874 - val_mae: 0.3930 - val_accuracy: 0.4233\n",
      "Epoch 19/75\n",
      "12/12 [==============================] - 0s 22ms/step - loss: 1.0707 - mse: 0.1865 - mae: 0.3769 - accuracy: 0.4517 - val_loss: 1.0705 - val_mse: 0.1847 - val_mae: 0.3809 - val_accuracy: 0.4233\n",
      "Epoch 20/75\n",
      "12/12 [==============================] - 0s 22ms/step - loss: 1.0788 - mse: 0.1920 - mae: 0.3730 - accuracy: 0.4192 - val_loss: 1.0379 - val_mse: 0.1840 - val_mae: 0.3724 - val_accuracy: 0.4267\n",
      "Epoch 21/75\n",
      "12/12 [==============================] - 0s 22ms/step - loss: 1.0381 - mse: 0.1918 - mae: 0.3641 - accuracy: 0.4425 - val_loss: 1.0068 - val_mse: 0.1830 - val_mae: 0.3626 - val_accuracy: 0.4233\n",
      "Epoch 22/75\n",
      "12/12 [==============================] - 0s 22ms/step - loss: 1.0269 - mse: 0.1917 - mae: 0.3573 - accuracy: 0.4283 - val_loss: 0.9815 - val_mse: 0.1843 - val_mae: 0.3572 - val_accuracy: 0.4233\n",
      "Epoch 23/75\n",
      "12/12 [==============================] - 0s 21ms/step - loss: 1.0118 - mse: 0.1956 - mae: 0.3531 - accuracy: 0.4308 - val_loss: 0.9612 - val_mse: 0.1855 - val_mae: 0.3526 - val_accuracy: 0.4233\n",
      "Epoch 24/75\n",
      "12/12 [==============================] - 0s 21ms/step - loss: 0.9851 - mse: 0.1955 - mae: 0.3467 - accuracy: 0.4483 - val_loss: 0.9397 - val_mse: 0.1846 - val_mae: 0.3443 - val_accuracy: 0.4267\n",
      "Epoch 25/75\n",
      "12/12 [==============================] - 0s 22ms/step - loss: 0.9695 - mse: 0.1937 - mae: 0.3404 - accuracy: 0.4417 - val_loss: 0.9266 - val_mse: 0.1901 - val_mae: 0.3444 - val_accuracy: 0.4267\n",
      "Epoch 26/75\n",
      "12/12 [==============================] - 0s 21ms/step - loss: 0.9633 - mse: 0.1986 - mae: 0.3386 - accuracy: 0.4275 - val_loss: 0.9068 - val_mse: 0.1874 - val_mae: 0.3364 - val_accuracy: 0.4267\n",
      "Epoch 27/75\n",
      "12/12 [==============================] - 0s 21ms/step - loss: 0.9569 - mse: 0.2007 - mae: 0.3354 - accuracy: 0.4342 - val_loss: 0.8965 - val_mse: 0.1904 - val_mae: 0.3357 - val_accuracy: 0.4267\n",
      "Epoch 28/75\n",
      "12/12 [==============================] - 0s 23ms/step - loss: 0.9467 - mse: 0.1984 - mae: 0.3315 - accuracy: 0.4408 - val_loss: 0.8879 - val_mse: 0.1907 - val_mae: 0.3333 - val_accuracy: 0.4267\n",
      "Epoch 29/75\n",
      "12/12 [==============================] - 0s 22ms/step - loss: 0.9523 - mse: 0.2029 - mae: 0.3353 - accuracy: 0.4317 - val_loss: 0.8764 - val_mse: 0.1918 - val_mae: 0.3299 - val_accuracy: 0.4267\n",
      "Epoch 30/75\n",
      "12/12 [==============================] - 0s 23ms/step - loss: 0.9320 - mse: 0.2053 - mae: 0.3326 - accuracy: 0.4258 - val_loss: 0.8677 - val_mse: 0.1952 - val_mae: 0.3288 - val_accuracy: 0.4267\n",
      "Epoch 31/75\n",
      "12/12 [==============================] - 0s 22ms/step - loss: 0.9285 - mse: 0.2020 - mae: 0.3273 - accuracy: 0.4325 - val_loss: 0.8592 - val_mse: 0.1953 - val_mae: 0.3262 - val_accuracy: 0.4267\n",
      "Epoch 32/75\n",
      "12/12 [==============================] - 0s 21ms/step - loss: 0.9148 - mse: 0.2039 - mae: 0.3252 - accuracy: 0.4333 - val_loss: 0.8467 - val_mse: 0.1916 - val_mae: 0.3195 - val_accuracy: 0.4200\n",
      "Epoch 33/75\n",
      "12/12 [==============================] - 0s 22ms/step - loss: 0.9083 - mse: 0.2008 - mae: 0.3193 - accuracy: 0.4450 - val_loss: 0.8436 - val_mse: 0.1965 - val_mae: 0.3218 - val_accuracy: 0.4300\n",
      "Epoch 34/75\n",
      "12/12 [==============================] - 0s 21ms/step - loss: 0.8868 - mse: 0.2045 - mae: 0.3191 - accuracy: 0.4567 - val_loss: 0.8316 - val_mse: 0.1939 - val_mae: 0.3158 - val_accuracy: 0.4233\n",
      "Epoch 35/75\n",
      "12/12 [==============================] - 0s 23ms/step - loss: 0.8970 - mse: 0.2035 - mae: 0.3181 - accuracy: 0.4317 - val_loss: 0.8278 - val_mse: 0.1969 - val_mae: 0.3164 - val_accuracy: 0.4267\n",
      "Epoch 36/75\n",
      "12/12 [==============================] - 0s 20ms/step - loss: 0.8795 - mse: 0.2023 - mae: 0.3148 - accuracy: 0.4483 - val_loss: 0.8222 - val_mse: 0.1982 - val_mae: 0.3151 - val_accuracy: 0.4267\n",
      "Epoch 37/75\n",
      "12/12 [==============================] - 0s 23ms/step - loss: 0.8700 - mse: 0.2036 - mae: 0.3125 - accuracy: 0.4383 - val_loss: 0.8128 - val_mse: 0.1965 - val_mae: 0.3105 - val_accuracy: 0.4233\n",
      "Epoch 38/75\n",
      "12/12 [==============================] - 0s 21ms/step - loss: 0.8705 - mse: 0.2038 - mae: 0.3113 - accuracy: 0.4492 - val_loss: 0.8099 - val_mse: 0.1989 - val_mae: 0.3109 - val_accuracy: 0.4267\n",
      "Epoch 39/75\n",
      "12/12 [==============================] - 0s 21ms/step - loss: 0.8906 - mse: 0.2083 - mae: 0.3158 - accuracy: 0.4333 - val_loss: 0.8069 - val_mse: 0.1970 - val_mae: 0.3093 - val_accuracy: 0.4233\n",
      "Epoch 40/75\n",
      "12/12 [==============================] - 0s 21ms/step - loss: 0.8528 - mse: 0.2020 - mae: 0.3062 - accuracy: 0.4550 - val_loss: 0.8050 - val_mse: 0.1987 - val_mae: 0.3096 - val_accuracy: 0.4300\n",
      "Epoch 41/75\n",
      "12/12 [==============================] - 0s 21ms/step - loss: 0.8700 - mse: 0.2084 - mae: 0.3129 - accuracy: 0.4350 - val_loss: 0.7984 - val_mse: 0.1984 - val_mae: 0.3069 - val_accuracy: 0.4267\n",
      "Epoch 42/75\n",
      "12/12 [==============================] - 0s 22ms/step - loss: 0.8616 - mse: 0.2013 - mae: 0.3048 - accuracy: 0.4600 - val_loss: 0.7984 - val_mse: 0.1992 - val_mae: 0.3077 - val_accuracy: 0.4267\n",
      "Epoch 43/75\n",
      "12/12 [==============================] - 0s 22ms/step - loss: 0.8474 - mse: 0.2021 - mae: 0.3069 - accuracy: 0.4500 - val_loss: 0.7915 - val_mse: 0.1946 - val_mae: 0.3031 - val_accuracy: 0.4233\n",
      "Epoch 44/75\n",
      "12/12 [==============================] - 0s 22ms/step - loss: 0.8505 - mse: 0.1999 - mae: 0.3036 - accuracy: 0.4492 - val_loss: 0.7882 - val_mse: 0.1954 - val_mae: 0.3025 - val_accuracy: 0.4233\n",
      "Epoch 45/75\n",
      "12/12 [==============================] - 0s 21ms/step - loss: 0.8551 - mse: 0.1987 - mae: 0.3037 - accuracy: 0.4525 - val_loss: 0.7889 - val_mse: 0.1959 - val_mae: 0.3034 - val_accuracy: 0.4233\n",
      "Epoch 46/75\n",
      "12/12 [==============================] - 0s 23ms/step - loss: 0.8451 - mse: 0.1985 - mae: 0.3006 - accuracy: 0.4475 - val_loss: 0.7818 - val_mse: 0.1936 - val_mae: 0.2997 - val_accuracy: 0.4233\n",
      "Epoch 47/75\n",
      "12/12 [==============================] - 0s 22ms/step - loss: 0.8487 - mse: 0.2002 - mae: 0.3025 - accuracy: 0.4483 - val_loss: 0.7797 - val_mse: 0.1933 - val_mae: 0.2990 - val_accuracy: 0.4267\n",
      "Epoch 48/75\n",
      "12/12 [==============================] - 0s 20ms/step - loss: 0.8361 - mse: 0.1979 - mae: 0.2997 - accuracy: 0.4625 - val_loss: 0.7738 - val_mse: 0.1918 - val_mae: 0.2958 - val_accuracy: 0.4233\n",
      "Epoch 49/75\n",
      "12/12 [==============================] - 0s 21ms/step - loss: 0.8555 - mse: 0.2007 - mae: 0.3026 - accuracy: 0.4633 - val_loss: 0.7730 - val_mse: 0.1930 - val_mae: 0.2964 - val_accuracy: 0.4233\n",
      "Epoch 50/75\n",
      "12/12 [==============================] - 0s 23ms/step - loss: 0.8405 - mse: 0.1970 - mae: 0.3009 - accuracy: 0.4733 - val_loss: 0.7704 - val_mse: 0.1881 - val_mae: 0.2932 - val_accuracy: 0.4200\n",
      "Epoch 51/75\n",
      "12/12 [==============================] - 0s 21ms/step - loss: 0.8549 - mse: 0.1989 - mae: 0.3032 - accuracy: 0.4608 - val_loss: 0.7700 - val_mse: 0.1911 - val_mae: 0.2951 - val_accuracy: 0.4233\n",
      "Epoch 52/75\n",
      "12/12 [==============================] - 0s 23ms/step - loss: 0.8234 - mse: 0.1989 - mae: 0.2992 - accuracy: 0.4667 - val_loss: 0.7625 - val_mse: 0.1889 - val_mae: 0.2910 - val_accuracy: 0.4267\n",
      "Epoch 53/75\n",
      "12/12 [==============================] - 0s 21ms/step - loss: 0.8119 - mse: 0.1900 - mae: 0.2899 - accuracy: 0.4942 - val_loss: 0.7592 - val_mse: 0.1870 - val_mae: 0.2893 - val_accuracy: 0.4267\n",
      "Epoch 54/75\n",
      "12/12 [==============================] - 0s 21ms/step - loss: 0.8291 - mse: 0.1953 - mae: 0.2957 - accuracy: 0.4625 - val_loss: 0.7583 - val_mse: 0.1856 - val_mae: 0.2890 - val_accuracy: 0.4267\n",
      "Epoch 55/75\n",
      "12/12 [==============================] - 0s 21ms/step - loss: 0.8014 - mse: 0.1887 - mae: 0.2874 - accuracy: 0.4858 - val_loss: 0.7521 - val_mse: 0.1817 - val_mae: 0.2848 - val_accuracy: 0.4233\n",
      "Epoch 56/75\n",
      "12/12 [==============================] - 0s 20ms/step - loss: 0.8197 - mse: 0.1906 - mae: 0.2896 - accuracy: 0.4800 - val_loss: 0.7508 - val_mse: 0.1820 - val_mae: 0.2850 - val_accuracy: 0.4267\n",
      "Epoch 57/75\n",
      "12/12 [==============================] - 0s 21ms/step - loss: 0.7919 - mse: 0.1859 - mae: 0.2855 - accuracy: 0.4925 - val_loss: 0.7471 - val_mse: 0.1797 - val_mae: 0.2829 - val_accuracy: 0.4300\n",
      "Epoch 58/75\n",
      "12/12 [==============================] - 0s 21ms/step - loss: 0.7977 - mse: 0.1852 - mae: 0.2842 - accuracy: 0.4792 - val_loss: 0.7421 - val_mse: 0.1750 - val_mae: 0.2795 - val_accuracy: 0.4267\n",
      "Epoch 59/75\n",
      "12/12 [==============================] - 0s 20ms/step - loss: 0.8009 - mse: 0.1830 - mae: 0.2848 - accuracy: 0.4675 - val_loss: 0.7375 - val_mse: 0.1706 - val_mae: 0.2761 - val_accuracy: 0.4200\n",
      "Epoch 60/75\n",
      "12/12 [==============================] - 0s 21ms/step - loss: 0.7916 - mse: 0.1782 - mae: 0.2808 - accuracy: 0.4975 - val_loss: 0.7351 - val_mse: 0.1685 - val_mae: 0.2752 - val_accuracy: 0.4233\n",
      "Epoch 61/75\n",
      "12/12 [==============================] - 0s 21ms/step - loss: 0.7791 - mse: 0.1755 - mae: 0.2759 - accuracy: 0.4792 - val_loss: 0.7281 - val_mse: 0.1662 - val_mae: 0.2718 - val_accuracy: 0.4267\n",
      "Epoch 62/75\n",
      "12/12 [==============================] - 0s 23ms/step - loss: 0.7890 - mse: 0.1752 - mae: 0.2772 - accuracy: 0.4792 - val_loss: 0.7225 - val_mse: 0.1598 - val_mae: 0.2673 - val_accuracy: 0.4233\n",
      "Epoch 63/75\n",
      "12/12 [==============================] - 0s 22ms/step - loss: 0.7758 - mse: 0.1710 - mae: 0.2726 - accuracy: 0.5067 - val_loss: 0.7213 - val_mse: 0.1582 - val_mae: 0.2673 - val_accuracy: 0.4500\n",
      "Epoch 64/75\n",
      "12/12 [==============================] - 0s 21ms/step - loss: 0.7603 - mse: 0.1641 - mae: 0.2677 - accuracy: 0.5467 - val_loss: 0.7106 - val_mse: 0.1510 - val_mae: 0.2609 - val_accuracy: 0.6000\n",
      "Epoch 65/75\n",
      "12/12 [==============================] - 0s 22ms/step - loss: 0.7665 - mse: 0.1613 - mae: 0.2651 - accuracy: 0.5925 - val_loss: 0.7055 - val_mse: 0.1463 - val_mae: 0.2579 - val_accuracy: 0.6433\n",
      "Epoch 66/75\n",
      "12/12 [==============================] - 0s 22ms/step - loss: 0.7617 - mse: 0.1605 - mae: 0.2649 - accuracy: 0.6225 - val_loss: 0.6976 - val_mse: 0.1408 - val_mae: 0.2533 - val_accuracy: 0.6500\n",
      "Epoch 67/75\n",
      "12/12 [==============================] - 0s 21ms/step - loss: 0.7483 - mse: 0.1525 - mae: 0.2575 - accuracy: 0.6275 - val_loss: 0.6893 - val_mse: 0.1349 - val_mae: 0.2484 - val_accuracy: 0.6567\n",
      "Epoch 68/75\n",
      "12/12 [==============================] - 0s 25ms/step - loss: 0.7589 - mse: 0.1512 - mae: 0.2563 - accuracy: 0.6333 - val_loss: 0.6818 - val_mse: 0.1284 - val_mae: 0.2440 - val_accuracy: 0.6700\n",
      "Epoch 69/75\n",
      "12/12 [==============================] - 0s 22ms/step - loss: 0.7343 - mse: 0.1429 - mae: 0.2479 - accuracy: 0.6583 - val_loss: 0.6734 - val_mse: 0.1232 - val_mae: 0.2404 - val_accuracy: 0.6767\n",
      "Epoch 70/75\n",
      "12/12 [==============================] - 0s 25ms/step - loss: 0.7257 - mse: 0.1409 - mae: 0.2463 - accuracy: 0.6575 - val_loss: 0.6611 - val_mse: 0.1176 - val_mae: 0.2344 - val_accuracy: 0.6633\n",
      "Epoch 71/75\n",
      "12/12 [==============================] - 0s 21ms/step - loss: 0.7309 - mse: 0.1395 - mae: 0.2449 - accuracy: 0.6467 - val_loss: 0.6550 - val_mse: 0.1144 - val_mae: 0.2323 - val_accuracy: 0.6800\n",
      "Epoch 72/75\n",
      "12/12 [==============================] - 0s 22ms/step - loss: 0.7161 - mse: 0.1374 - mae: 0.2428 - accuracy: 0.6525 - val_loss: 0.6366 - val_mse: 0.1075 - val_mae: 0.2243 - val_accuracy: 0.6633\n",
      "Epoch 73/75\n",
      "12/12 [==============================] - 0s 22ms/step - loss: 0.7150 - mse: 0.1330 - mae: 0.2385 - accuracy: 0.6533 - val_loss: 0.6233 - val_mse: 0.1023 - val_mae: 0.2193 - val_accuracy: 0.6700\n",
      "Epoch 74/75\n",
      "12/12 [==============================] - 0s 20ms/step - loss: 0.7000 - mse: 0.1313 - mae: 0.2381 - accuracy: 0.6567 - val_loss: 0.6089 - val_mse: 0.0986 - val_mae: 0.2145 - val_accuracy: 0.6667\n",
      "Epoch 75/75\n",
      "12/12 [==============================] - 0s 21ms/step - loss: 0.6851 - mse: 0.1284 - mae: 0.2318 - accuracy: 0.6708 - val_loss: 0.5924 - val_mse: 0.0947 - val_mae: 0.2087 - val_accuracy: 0.6767\n"
     ]
    }
   ],
   "source": [
    "model.summary()\n",
    "model.compile(loss='categorical_crossentropy', optimizer=tf.keras.optimizers.Adam(learning_rate=0.0003), metrics=['mse', 'mae', 'accuracy'])\n",
    "history = model.fit(X_train, Y_train, epochs=75, batch_size=100, verbose=1, validation_split=0.2)"
   ]
  },
  {
   "cell_type": "code",
   "execution_count": 292,
   "id": "393485ba-379a-4ab2-bd96-5d769a5b11c8",
   "metadata": {},
   "outputs": [
    {
     "data": {
      "image/png": "[encoded data removed]",
      "text/plain": [
       "<Figure size 432x288 with 1 Axes>"
      ]
     },
     "metadata": {},
     "output_type": "display_data"
    }
   ],
   "source": [
    "#graph the accuracy metrics\n",
    "plt.plot(history.history['accuracy'])\n",
    "plt.plot(history.history['val_accuracy'])\n",
    "plt.title('ANN Accuracy')\n",
    "plt.ylabel('accuracy')\n",
    "plt.xlabel('epoch')\n",
    "plt.legend(['Train', 'Validation'], loc='upper left')\n",
    "plt.show()"
   ]
  },
  {
   "cell_type": "code",
   "execution_count": 293,
   "id": "29e34c1b-1f64-4c20-8dd3-d7ebd97f8b21",
   "metadata": {},
   "outputs": [
    {
     "data": {
      "image/png": "[encoded data removed]",
      "text/plain": [
       "<Figure size 432x288 with 1 Axes>"
      ]
     },
     "metadata": {},
     "output_type": "display_data"
    }
   ],
   "source": [
    "#graph the loss\n",
    "plt.plot(history.history['loss'])\n",
    "plt.plot(history.history['val_loss'])\n",
    "plt.title('model loss')\n",
    "plt.ylabel('loss')\n",
    "plt.xlabel('epoch')\n",
    "plt.legend(['Train', 'Validation'], loc='upper left')\n",
    "plt.show()"
   ]
  },
  {
   "cell_type": "code",
   "execution_count": 294,
   "id": "8b1e24f8-1888-4a0b-b2de-83ef985c658b",
   "metadata": {},
   "outputs": [],
   "source": [
    "#predict values\n",
    "#X_train_predict = scalerX.transform(X_train)\n",
    "Y_train_predict = model.predict(X_test)\n",
    "\n",
    "#print (Y_train_predict)\n",
    "preds=(np.argmax(Y_train_predict, axis=1) + 1)"
   ]
  },
  {
   "cell_type": "code",
   "execution_count": 295,
   "id": "6e22029f-b134-4015-a032-f6784857b095",
   "metadata": {},
   "outputs": [],
   "source": [
    "#preprocessing -- make target value into categorical attribute vector\n",
    "Y_pred_categorical = np_utils.to_categorical(preds)\n",
    "Y_pred_cleaned = Y_pred_categorical[:,1:5]"
   ]
  },
  {
   "cell_type": "code",
   "execution_count": 296,
   "id": "0d7334e4-8196-478e-8966-c715f44213fe",
   "metadata": {},
   "outputs": [
    {
     "data": {
      "image/png": "[encoded data removed]",
      "text/plain": [
       "<Figure size 432x288 with 1 Axes>"
      ]
     },
     "metadata": {},
     "output_type": "display_data"
    },
    {
     "name": "stdout",
     "output_type": "stream",
     "text": [
      "              precision    recall  f1-score   support\n",
      "\n",
      "         0.0       0.76      0.94      0.84       380\n",
      "         1.0       0.31      0.08      0.13       120\n",
      "\n",
      "    accuracy                           0.74       500\n",
      "   macro avg       0.54      0.51      0.49       500\n",
      "weighted avg       0.66      0.74      0.67       500\n",
      "\n"
     ]
    },
    {
     "data": {
      "image/png": "[encoded data removed]",
      "text/plain": [
       "<Figure size 432x288 with 1 Axes>"
      ]
     },
     "metadata": {},
     "output_type": "display_data"
    },
    {
     "name": "stdout",
     "output_type": "stream",
     "text": [
      "              precision    recall  f1-score   support\n",
      "\n",
      "         0.0       0.99      0.99      0.99       368\n",
      "         1.0       0.96      0.97      0.97       132\n",
      "\n",
      "    accuracy                           0.98       500\n",
      "   macro avg       0.98      0.98      0.98       500\n",
      "weighted avg       0.98      0.98      0.98       500\n",
      "\n"
     ]
    },
    {
     "data": {
      "image/png": "[encoded data removed]",
      "text/plain": [
       "<Figure size 432x288 with 1 Axes>"
      ]
     },
     "metadata": {},
     "output_type": "display_data"
    },
    {
     "name": "stdout",
     "output_type": "stream",
     "text": [
      "              precision    recall  f1-score   support\n",
      "\n",
      "         0.0       0.92      0.71      0.80       381\n",
      "         1.0       0.46      0.81      0.59       119\n",
      "\n",
      "    accuracy                           0.73       500\n",
      "   macro avg       0.69      0.76      0.70       500\n",
      "weighted avg       0.81      0.73      0.75       500\n",
      "\n"
     ]
    },
    {
     "data": {
      "image/png": "[encoded data removed]",
      "text/plain": [
       "<Figure size 432x288 with 1 Axes>"
      ]
     },
     "metadata": {},
     "output_type": "display_data"
    },
    {
     "name": "stdout",
     "output_type": "stream",
     "text": [
      "              precision    recall  f1-score   support\n",
      "\n",
      "         0.0       1.00      1.00      1.00       371\n",
      "         1.0       1.00      0.99      1.00       129\n",
      "\n",
      "    accuracy                           1.00       500\n",
      "   macro avg       1.00      1.00      1.00       500\n",
      "weighted avg       1.00      1.00      1.00       500\n",
      "\n"
     ]
    }
   ],
   "source": [
    "#Plot the ROC Curve \n",
    "\n",
    "fpr=dict()\n",
    "tpr=dict()\n",
    "roc_auc=dict()\n",
    "for i in range(4):\n",
    "    fpr[i], tpr[i], _ = roc_curve(Y_test[:, i], Y_pred_cleaned[:, i])\n",
    "    roc_auc[i] = auc(fpr[i], tpr[i])\n",
    "    \n",
    "for i in range(4):\n",
    "    plt.figure()\n",
    "    plt.plot(fpr[i], tpr[i], label='auc %f' %roc_auc[i])\n",
    "    plt.plot([0,1], [0,1], 'k--')\n",
    "    plt.xlim([0.0, 1.0])\n",
    "    plt.ylim([0.0, 1.05])\n",
    "    plt.xlabel('False Positive Rate')\n",
    "    plt.ylabel('True Positive Rate')\n",
    "    plt.title('ROC Curve, classification of room %d' % (i + 1))\n",
    "    plt.legend(loc=\"lower right\")\n",
    "    plt.show()\n",
    "    print (classification_report(Y_test[:, i], Y_pred_cleaned[:, i]))"
   ]
  },
  {
   "cell_type": "markdown",
   "id": "6a7df72c-0e9f-4e1d-931e-6be909098ffa",
   "metadata": {},
   "source": [
    "***"
   ]
  },
  {
   "cell_type": "markdown",
   "id": "2dddebe4-f7bd-48bd-b0c4-41be3f69f3c3",
   "metadata": {},
   "source": [
    "## Naive-Bayes and Decision Tree Implementation, by Flore Norceide"
   ]
  },
  {
   "cell_type": "code",
   "execution_count": 269,
   "id": "01e04df5-b47d-4b7a-ac05-9b5f176fd684",
   "metadata": {},
   "outputs": [],
   "source": [
    "# Import packages\n",
    "from sklearn.naive_bayes import GaussianNB\n",
    "from sklearn.model_selection import train_test_split\n",
    "from sklearn.metrics import confusion_matrix\n",
    "from sklearn.metrics import classification_report\n",
    "import numpy as np\n",
    "import pandas as pd\n",
    "import matplotlib.pyplot as plt\n",
    "import seaborn as sns; sns.set()"
   ]
  },
  {
   "cell_type": "code",
   "execution_count": 270,
   "id": "02074ca0-7a43-4bb3-a06c-cc69e5369e40",
   "metadata": {},
   "outputs": [
    {
     "data": {
      "text/html": [
       "<div>\n",
       "<style scoped>\n",
       "    .dataframe tbody tr th:only-of-type {\n",
       "        vertical-align: middle;\n",
       "    }\n",
       "\n",
       "    .dataframe tbody tr th {\n",
       "        vertical-align: top;\n",
       "    }\n",
       "\n",
       "    .dataframe thead th {\n",
       "        text-align: right;\n",
       "    }\n",
       "</style>\n",
       "<table border=\"1\" class=\"dataframe\">\n",
       "  <thead>\n",
       "    <tr style=\"text-align: right;\">\n",
       "      <th></th>\n",
       "      <th>Sensor1</th>\n",
       "      <th>Sensor2</th>\n",
       "      <th>Sensor3</th>\n",
       "      <th>Sensor4</th>\n",
       "      <th>Sensor5</th>\n",
       "      <th>Sensor6</th>\n",
       "      <th>Sensor7</th>\n",
       "      <th>Room</th>\n",
       "    </tr>\n",
       "  </thead>\n",
       "  <tbody>\n",
       "    <tr>\n",
       "      <th>0</th>\n",
       "      <td>64</td>\n",
       "      <td>56</td>\n",
       "      <td>61</td>\n",
       "      <td>66</td>\n",
       "      <td>71</td>\n",
       "      <td>82</td>\n",
       "      <td>81</td>\n",
       "      <td>1</td>\n",
       "    </tr>\n",
       "    <tr>\n",
       "      <th>1</th>\n",
       "      <td>68</td>\n",
       "      <td>57</td>\n",
       "      <td>61</td>\n",
       "      <td>65</td>\n",
       "      <td>71</td>\n",
       "      <td>85</td>\n",
       "      <td>85</td>\n",
       "      <td>1</td>\n",
       "    </tr>\n",
       "    <tr>\n",
       "      <th>2</th>\n",
       "      <td>63</td>\n",
       "      <td>60</td>\n",
       "      <td>60</td>\n",
       "      <td>67</td>\n",
       "      <td>76</td>\n",
       "      <td>85</td>\n",
       "      <td>84</td>\n",
       "      <td>1</td>\n",
       "    </tr>\n",
       "    <tr>\n",
       "      <th>3</th>\n",
       "      <td>61</td>\n",
       "      <td>60</td>\n",
       "      <td>68</td>\n",
       "      <td>62</td>\n",
       "      <td>77</td>\n",
       "      <td>90</td>\n",
       "      <td>80</td>\n",
       "      <td>1</td>\n",
       "    </tr>\n",
       "    <tr>\n",
       "      <th>4</th>\n",
       "      <td>63</td>\n",
       "      <td>65</td>\n",
       "      <td>60</td>\n",
       "      <td>63</td>\n",
       "      <td>77</td>\n",
       "      <td>81</td>\n",
       "      <td>87</td>\n",
       "      <td>1</td>\n",
       "    </tr>\n",
       "  </tbody>\n",
       "</table>\n",
       "</div>"
      ],
      "text/plain": [
       "   Sensor1  Sensor2  Sensor3  Sensor4  Sensor5  Sensor6  Sensor7  Room\n",
       "0       64       56       61       66       71       82       81     1\n",
       "1       68       57       61       65       71       85       85     1\n",
       "2       63       60       60       67       76       85       84     1\n",
       "3       61       60       68       62       77       90       80     1\n",
       "4       63       65       60       63       77       81       87     1"
      ]
     },
     "execution_count": 270,
     "metadata": {},
     "output_type": "execute_result"
    }
   ],
   "source": [
    "# Looding the data\n",
    "wifi_bayes = pd.read_csv(\"wifi_localization_data.csv\")\n",
    "\n",
    "wifi_bayes.head()"
   ]
  },
  {
   "cell_type": "code",
   "execution_count": 271,
   "id": "c8e41afa-502a-4eff-aa28-7dec886a447b",
   "metadata": {},
   "outputs": [
    {
     "data": {
      "text/html": [
       "<div>\n",
       "<style scoped>\n",
       "    .dataframe tbody tr th:only-of-type {\n",
       "        vertical-align: middle;\n",
       "    }\n",
       "\n",
       "    .dataframe tbody tr th {\n",
       "        vertical-align: top;\n",
       "    }\n",
       "\n",
       "    .dataframe thead th {\n",
       "        text-align: right;\n",
       "    }\n",
       "</style>\n",
       "<table border=\"1\" class=\"dataframe\">\n",
       "  <thead>\n",
       "    <tr style=\"text-align: right;\">\n",
       "      <th></th>\n",
       "      <th>Sensor1</th>\n",
       "      <th>Sensor2</th>\n",
       "      <th>Sensor3</th>\n",
       "      <th>Sensor4</th>\n",
       "      <th>Sensor5</th>\n",
       "      <th>Sensor6</th>\n",
       "      <th>Sensor7</th>\n",
       "      <th>Room</th>\n",
       "    </tr>\n",
       "  </thead>\n",
       "  <tbody>\n",
       "    <tr>\n",
       "      <th>count</th>\n",
       "      <td>2000.000000</td>\n",
       "      <td>2000.000000</td>\n",
       "      <td>2000.000000</td>\n",
       "      <td>2000.000000</td>\n",
       "      <td>2000.000000</td>\n",
       "      <td>2000.000000</td>\n",
       "      <td>2000.000000</td>\n",
       "      <td>2000.000000</td>\n",
       "    </tr>\n",
       "    <tr>\n",
       "      <th>mean</th>\n",
       "      <td>52.330500</td>\n",
       "      <td>55.623500</td>\n",
       "      <td>54.964000</td>\n",
       "      <td>53.566500</td>\n",
       "      <td>62.640500</td>\n",
       "      <td>80.985000</td>\n",
       "      <td>81.726500</td>\n",
       "      <td>2.500000</td>\n",
       "    </tr>\n",
       "    <tr>\n",
       "      <th>std</th>\n",
       "      <td>11.321677</td>\n",
       "      <td>3.417688</td>\n",
       "      <td>5.316186</td>\n",
       "      <td>11.471982</td>\n",
       "      <td>9.105093</td>\n",
       "      <td>6.516672</td>\n",
       "      <td>6.519812</td>\n",
       "      <td>1.118314</td>\n",
       "    </tr>\n",
       "    <tr>\n",
       "      <th>min</th>\n",
       "      <td>10.000000</td>\n",
       "      <td>45.000000</td>\n",
       "      <td>40.000000</td>\n",
       "      <td>11.000000</td>\n",
       "      <td>36.000000</td>\n",
       "      <td>61.000000</td>\n",
       "      <td>63.000000</td>\n",
       "      <td>1.000000</td>\n",
       "    </tr>\n",
       "    <tr>\n",
       "      <th>25%</th>\n",
       "      <td>46.000000</td>\n",
       "      <td>53.000000</td>\n",
       "      <td>51.000000</td>\n",
       "      <td>46.000000</td>\n",
       "      <td>56.000000</td>\n",
       "      <td>77.000000</td>\n",
       "      <td>78.000000</td>\n",
       "      <td>1.750000</td>\n",
       "    </tr>\n",
       "    <tr>\n",
       "      <th>50%</th>\n",
       "      <td>55.000000</td>\n",
       "      <td>56.000000</td>\n",
       "      <td>55.000000</td>\n",
       "      <td>56.000000</td>\n",
       "      <td>64.000000</td>\n",
       "      <td>82.000000</td>\n",
       "      <td>83.000000</td>\n",
       "      <td>2.500000</td>\n",
       "    </tr>\n",
       "    <tr>\n",
       "      <th>75%</th>\n",
       "      <td>61.000000</td>\n",
       "      <td>58.000000</td>\n",
       "      <td>58.000000</td>\n",
       "      <td>63.000000</td>\n",
       "      <td>69.000000</td>\n",
       "      <td>86.000000</td>\n",
       "      <td>87.000000</td>\n",
       "      <td>3.250000</td>\n",
       "    </tr>\n",
       "    <tr>\n",
       "      <th>max</th>\n",
       "      <td>74.000000</td>\n",
       "      <td>74.000000</td>\n",
       "      <td>73.000000</td>\n",
       "      <td>77.000000</td>\n",
       "      <td>89.000000</td>\n",
       "      <td>97.000000</td>\n",
       "      <td>98.000000</td>\n",
       "      <td>4.000000</td>\n",
       "    </tr>\n",
       "  </tbody>\n",
       "</table>\n",
       "</div>"
      ],
      "text/plain": [
       "           Sensor1      Sensor2      Sensor3      Sensor4      Sensor5  \\\n",
       "count  2000.000000  2000.000000  2000.000000  2000.000000  2000.000000   \n",
       "mean     52.330500    55.623500    54.964000    53.566500    62.640500   \n",
       "std      11.321677     3.417688     5.316186    11.471982     9.105093   \n",
       "min      10.000000    45.000000    40.000000    11.000000    36.000000   \n",
       "25%      46.000000    53.000000    51.000000    46.000000    56.000000   \n",
       "50%      55.000000    56.000000    55.000000    56.000000    64.000000   \n",
       "75%      61.000000    58.000000    58.000000    63.000000    69.000000   \n",
       "max      74.000000    74.000000    73.000000    77.000000    89.000000   \n",
       "\n",
       "           Sensor6      Sensor7         Room  \n",
       "count  2000.000000  2000.000000  2000.000000  \n",
       "mean     80.985000    81.726500     2.500000  \n",
       "std       6.516672     6.519812     1.118314  \n",
       "min      61.000000    63.000000     1.000000  \n",
       "25%      77.000000    78.000000     1.750000  \n",
       "50%      82.000000    83.000000     2.500000  \n",
       "75%      86.000000    87.000000     3.250000  \n",
       "max      97.000000    98.000000     4.000000  "
      ]
     },
     "execution_count": 271,
     "metadata": {},
     "output_type": "execute_result"
    }
   ],
   "source": [
    "wifi_bayes.describe()"
   ]
  },
  {
   "cell_type": "code",
   "execution_count": 272,
   "id": "a601c0ef-4d35-4a66-a89c-9f446992f57a",
   "metadata": {},
   "outputs": [
    {
     "name": "stdout",
     "output_type": "stream",
     "text": [
      "y values\n",
      "0    1\n",
      "1    1\n",
      "2    1\n",
      "3    1\n",
      "4    1\n",
      "Name: Room, dtype: int64\n",
      "x values\n",
      "   Sensor1  Sensor2  Sensor3  Sensor4  Sensor5  Sensor6  Sensor7\n",
      "0       64       56       61       66       71       82       81\n",
      "1       68       57       61       65       71       85       85\n",
      "2       63       60       60       67       76       85       84\n",
      "3       61       60       68       62       77       90       80\n",
      "4       63       65       60       63       77       81       87\n"
     ]
    }
   ],
   "source": [
    "# Split data into input and output to later split into test/train\n",
    "X = wifi_bayes.drop('Room', axis=1)\n",
    "y = wifi_bayes.loc[:, 'Room']\n",
    "\n",
    "print('y values')\n",
    "print(y.head())\n",
    "print('x values')\n",
    "print(X.head())"
   ]
  },
  {
   "cell_type": "code",
   "execution_count": 273,
   "id": "70c2337d-213e-4718-b0fc-9a6dc23e7af9",
   "metadata": {},
   "outputs": [],
   "source": [
    "# Assigning test data size 20-80 test/train\n",
    "X_train, X_test, y_train, y_test =train_test_split(X,y,test_size= 0.20, random_state=0)\n",
    "\n",
    "# Creating the Gaussian Classifier model\n",
    "gauss_model = GaussianNB()\n",
    "\n",
    "# Training the model\n",
    "gauss_model.fit(X_train, y_train)\n",
    "\n",
    "# Predict the output\n",
    "out_pred = gauss_model.predict(X_test)\n",
    "\n",
    "# Look at the log probability\n",
    "log_pred = gauss_model.predict_log_proba(X_test)"
   ]
  },
  {
   "cell_type": "code",
   "execution_count": 275,
   "id": "5bd050b7-2f5e-4618-a1fd-ff8ec84c1f92",
   "metadata": {},
   "outputs": [
    {
     "data": {
      "text/plain": [
       "Text(34.82000000000001, 0.5, 'Predicted Localization')"
      ]
     },
     "execution_count": 275,
     "metadata": {},
     "output_type": "execute_result"
    },
    {
     "data": {
      "image/png": "[encoded data removed]",
      "text/plain": [
       "<Figure size 432x432 with 1 Axes>"
      ]
     },
     "metadata": {},
     "output_type": "display_data"
    }
   ],
   "source": [
    "# Plot Confusion Matrix\n",
    "conf_mat = confusion_matrix(out_pred, y_test)\n",
    "names = np.unique(out_pred) # To have each prediction only once\n",
    "\n",
    "fig, ax = plt.subplots(figsize=(6,6))\n",
    "sns.heatmap(conf_mat, square = True, annot = True, fmt = 'd', cbar = False,\n",
    "            xticklabels = names, yticklabels = names)\n",
    "\n",
    "plt.title(\"Gaussian Bayes Classifier CM\")\n",
    "plt.xlabel('True Localization')\n",
    "plt.ylabel('Predicted Localization')"
   ]
  },
  {
   "cell_type": "code",
   "execution_count": 236,
   "id": "d7fa328f-d304-4f9f-9c93-10238897dc4a",
   "metadata": {},
   "outputs": [
    {
     "name": "stdout",
     "output_type": "stream",
     "text": [
      "              precision    recall  f1-score   support\n",
      "\n",
      "           1       1.00      1.00      1.00       107\n",
      "           2       1.00      0.90      0.95        93\n",
      "           3       0.92      0.99      0.95       101\n",
      "           4       0.99      1.00      0.99        99\n",
      "\n",
      "    accuracy                           0.97       400\n",
      "   macro avg       0.98      0.97      0.97       400\n",
      "weighted avg       0.98      0.97      0.97       400\n",
      "\n"
     ]
    }
   ],
   "source": [
    "# Getting a numerical synopsys of the accuracy of our model\n",
    "print(classification_report(y_test, out_pred))"
   ]
  },
  {
   "cell_type": "markdown",
   "id": "af722db2-6d51-4684-9a05-5b3366ed7281",
   "metadata": {},
   "source": [
    "## Decision Tree Classifier"
   ]
  },
  {
   "cell_type": "code",
   "execution_count": 237,
   "id": "2541aede-f11d-4072-93f0-78961f528555",
   "metadata": {},
   "outputs": [],
   "source": [
    "from sklearn.pipeline import Pipeline\n",
    "from sklearn.preprocessing import StandardScaler\n",
    "from sklearn.svm import LinearSVC\n",
    "from sklearn.tree import DecisionTreeClassifier, export_graphviz\n",
    "from sklearn import tree"
   ]
  },
  {
   "cell_type": "code",
   "execution_count": 238,
   "id": "b614c237-fbd3-4960-b339-f8e4cdf30f82",
   "metadata": {},
   "outputs": [],
   "source": [
    "X_tree = wifi_bayes.drop('Room', axis=1)\n",
    "y_tree = wifi_bayes.loc[:, 'Room']"
   ]
  },
  {
   "cell_type": "code",
   "execution_count": 239,
   "id": "625fdb1b-9182-4b7d-91ca-1f165946752d",
   "metadata": {},
   "outputs": [],
   "source": [
    "XTrain, XTest, YTrain, YTest = train_test_split(X_tree, y_tree, random_state=0)"
   ]
  },
  {
   "cell_type": "code",
   "execution_count": 240,
   "id": "b1c3bc9e-f83c-451b-a511-f8f21095ee7e",
   "metadata": {},
   "outputs": [],
   "source": [
    "tree_model = DecisionTreeClassifier(max_depth=5).fit(XTrain, YTrain)"
   ]
  },
  {
   "cell_type": "code",
   "execution_count": 265,
   "id": "9bd18a6a-0333-4b82-9920-0fe22e4b588b",
   "metadata": {},
   "outputs": [],
   "source": [
    "class_name = y_tree.values.astype(str)\n",
    "tree.export_graphviz(tree_model, out_file='tree_viz', \n",
    "                     class_names = class_name, rounded = True, \n",
    "                     filled = True)"
   ]
  },
  {
   "cell_type": "code",
   "execution_count": 242,
   "id": "4c0e6da2-acbc-48ca-8816-2d670f640972",
   "metadata": {},
   "outputs": [],
   "source": [
    "tree_pred = tree_model.predict(XTest)"
   ]
  },
  {
   "cell_type": "code",
   "execution_count": 243,
   "id": "8ce13641-7eda-4c7d-b755-92a3452cd488",
   "metadata": {},
   "outputs": [
    {
     "name": "stdout",
     "output_type": "stream",
     "text": [
      "Accuracy:  0.962\n",
      "Classification Report:                precision    recall  f1-score   support\n",
      "\n",
      "           1       0.99      0.98      0.99       133\n",
      "           2       0.93      0.97      0.95       116\n",
      "           3       0.96      0.90      0.93       136\n",
      "           4       0.97      0.99      0.98       115\n",
      "\n",
      "    accuracy                           0.96       500\n",
      "   macro avg       0.96      0.96      0.96       500\n",
      "weighted avg       0.96      0.96      0.96       500\n",
      "\n"
     ]
    }
   ],
   "source": [
    "acc = accuracy_score(YTest, tree_pred)\n",
    "report = classification_report(tree_pred, YTest)\n",
    "\n",
    "print(\"Accuracy: \", acc)\n",
    "print(\"Classification Report: \", report)"
   ]
  },
  {
   "cell_type": "code",
   "execution_count": 276,
   "id": "e1252dbd-8f5b-411d-9ae4-8e447dabe2be",
   "metadata": {},
   "outputs": [
    {
     "data": {
      "text/plain": [
       "Text(34.82000000000001, 0.5, 'Predicted value')"
      ]
     },
     "execution_count": 276,
     "metadata": {},
     "output_type": "execute_result"
    },
    {
     "data": {
      "image/png": "[encoded data removed]",
      "text/plain": [
       "<Figure size 432x432 with 1 Axes>"
      ]
     },
     "metadata": {},
     "output_type": "display_data"
    }
   ],
   "source": [
    "# Plot Confusion Matrix\n",
    "confmat_tree = confusion_matrix(tree_pred, YTest)\n",
    "classes = np.unique(tree_pred) # To have each prediction only once\n",
    "\n",
    "fig, ax = plt.subplots(figsize=(6,6))\n",
    "sns.heatmap(confmat_tree, square = True, annot = True, fmt = 'd', cbar = False,\n",
    "            xticklabels = classes, yticklabels = classes)\n",
    "\n",
    "plt.title(\"Decision Tree Classifier CM\")\n",
    "plt.xlabel('True value')\n",
    "plt.ylabel('Predicted value')"
   ]
  },
  {
   "cell_type": "code",
   "execution_count": 245,
   "id": "cd0047a6-570d-4268-a26b-3cc27476bd6e",
   "metadata": {},
   "outputs": [
    {
     "data": {
      "text/plain": [
       "array([<AxesSubplot:title={'center':'Tested Values'}>], dtype=object)"
      ]
     },
     "execution_count": 245,
     "metadata": {},
     "output_type": "execute_result"
    },
    {
     "data": {
      "image/png": "[encoded data removed]",
      "text/plain": [
       "<Figure size 720x360 with 2 Axes>"
      ]
     },
     "metadata": {},
     "output_type": "display_data"
    }
   ],
   "source": [
    "import pandas as pd\n",
    "\n",
    "p1 = pd.DataFrame(tree_pred, columns=['Predictions'])\n",
    "p2 = pd.DataFrame(YTest.values, columns=['Tested Values'])\n",
    "\n",
    "fig, axes = plt.subplots(1, 2,figsize=(10,5))\n",
    "p1.hist('Predictions', bins='auto', ax=axes[0])\n",
    "p2.hist('Tested Values', bins='auto', ax=axes[1])"
   ]
  },
  {
   "cell_type": "markdown",
   "id": "a5ee91f4-43be-415c-a27f-2fb475fe1cdb",
   "metadata": {},
   "source": [
    "***"
   ]
  },
  {
   "cell_type": "markdown",
   "id": "7006648d-3078-4e96-ac49-8670467d8de1",
   "metadata": {},
   "source": [
    "## kNearestNeighbor Implementation, by Oskar Barrera"
   ]
  },
  {
   "cell_type": "code",
   "execution_count": 247,
   "id": "37f27928-3457-4c12-a28a-3e71d43ca333",
   "metadata": {},
   "outputs": [],
   "source": [
    "import pandas as pd\n",
    "import numpy as np\n",
    "import matplotlib.pyplot as plt\n",
    "from sklearn.neighbors import KNeighborsClassifier\n",
    "from sklearn.preprocessing import MinMaxScaler\n",
    "from sklearn.model_selection import train_test_split\n",
    "from sklearn.metrics import classification_report\n",
    "from sklearn.metrics import confusion_matrix"
   ]
  },
  {
   "cell_type": "code",
   "execution_count": 248,
   "id": "78e02373-9ee5-4ee6-80b2-4774c740f3ee",
   "metadata": {},
   "outputs": [
    {
     "data": {
      "text/html": [
       "<div>\n",
       "<style scoped>\n",
       "    .dataframe tbody tr th:only-of-type {\n",
       "        vertical-align: middle;\n",
       "    }\n",
       "\n",
       "    .dataframe tbody tr th {\n",
       "        vertical-align: top;\n",
       "    }\n",
       "\n",
       "    .dataframe thead th {\n",
       "        text-align: right;\n",
       "    }\n",
       "</style>\n",
       "<table border=\"1\" class=\"dataframe\">\n",
       "  <thead>\n",
       "    <tr style=\"text-align: right;\">\n",
       "      <th></th>\n",
       "      <th>Sensor1</th>\n",
       "      <th>Sensor2</th>\n",
       "      <th>Sensor3</th>\n",
       "      <th>Sensor4</th>\n",
       "      <th>Sensor5</th>\n",
       "      <th>Sensor6</th>\n",
       "      <th>Sensor7</th>\n",
       "      <th>Room</th>\n",
       "    </tr>\n",
       "  </thead>\n",
       "  <tbody>\n",
       "    <tr>\n",
       "      <th>0</th>\n",
       "      <td>64</td>\n",
       "      <td>56</td>\n",
       "      <td>61</td>\n",
       "      <td>66</td>\n",
       "      <td>71</td>\n",
       "      <td>82</td>\n",
       "      <td>81</td>\n",
       "      <td>1</td>\n",
       "    </tr>\n",
       "    <tr>\n",
       "      <th>1</th>\n",
       "      <td>68</td>\n",
       "      <td>57</td>\n",
       "      <td>61</td>\n",
       "      <td>65</td>\n",
       "      <td>71</td>\n",
       "      <td>85</td>\n",
       "      <td>85</td>\n",
       "      <td>1</td>\n",
       "    </tr>\n",
       "    <tr>\n",
       "      <th>2</th>\n",
       "      <td>63</td>\n",
       "      <td>60</td>\n",
       "      <td>60</td>\n",
       "      <td>67</td>\n",
       "      <td>76</td>\n",
       "      <td>85</td>\n",
       "      <td>84</td>\n",
       "      <td>1</td>\n",
       "    </tr>\n",
       "    <tr>\n",
       "      <th>3</th>\n",
       "      <td>61</td>\n",
       "      <td>60</td>\n",
       "      <td>68</td>\n",
       "      <td>62</td>\n",
       "      <td>77</td>\n",
       "      <td>90</td>\n",
       "      <td>80</td>\n",
       "      <td>1</td>\n",
       "    </tr>\n",
       "    <tr>\n",
       "      <th>4</th>\n",
       "      <td>63</td>\n",
       "      <td>65</td>\n",
       "      <td>60</td>\n",
       "      <td>63</td>\n",
       "      <td>77</td>\n",
       "      <td>81</td>\n",
       "      <td>87</td>\n",
       "      <td>1</td>\n",
       "    </tr>\n",
       "  </tbody>\n",
       "</table>\n",
       "</div>"
      ],
      "text/plain": [
       "   Sensor1  Sensor2  Sensor3  Sensor4  Sensor5  Sensor6  Sensor7  Room\n",
       "0       64       56       61       66       71       82       81     1\n",
       "1       68       57       61       65       71       85       85     1\n",
       "2       63       60       60       67       76       85       84     1\n",
       "3       61       60       68       62       77       90       80     1\n",
       "4       63       65       60       63       77       81       87     1"
      ]
     },
     "execution_count": 248,
     "metadata": {},
     "output_type": "execute_result"
    }
   ],
   "source": [
    "data=pd.read_csv(\"wifi_localization_data.csv\")\n",
    "\n",
    "data.head()"
   ]
  },
  {
   "cell_type": "code",
   "execution_count": 249,
   "id": "c5626d97-ab36-4038-b0e3-19977c433c7b",
   "metadata": {},
   "outputs": [
    {
     "data": {
      "text/plain": [
       "array([[<AxesSubplot:title={'center':'Sensor1'}>,\n",
       "        <AxesSubplot:title={'center':'Sensor2'}>,\n",
       "        <AxesSubplot:title={'center':'Sensor3'}>],\n",
       "       [<AxesSubplot:title={'center':'Sensor4'}>,\n",
       "        <AxesSubplot:title={'center':'Sensor5'}>,\n",
       "        <AxesSubplot:title={'center':'Sensor6'}>],\n",
       "       [<AxesSubplot:title={'center':'Sensor7'}>,\n",
       "        <AxesSubplot:title={'center':'Room'}>, <AxesSubplot:>]],\n",
       "      dtype=object)"
      ]
     },
     "execution_count": 249,
     "metadata": {},
     "output_type": "execute_result"
    },
    {
     "data": {
      "image/png": "[encoded data removed]",
      "text/plain": [
       "<Figure size 720x720 with 9 Axes>"
      ]
     },
     "metadata": {},
     "output_type": "display_data"
    }
   ],
   "source": [
    "data.hist(figsize=(10,10))"
   ]
  },
  {
   "cell_type": "code",
   "execution_count": 250,
   "id": "fa38b6af-9475-4164-b53c-210d273ad408",
   "metadata": {},
   "outputs": [
    {
     "data": {
      "text/html": [
       "<div>\n",
       "<style scoped>\n",
       "    .dataframe tbody tr th:only-of-type {\n",
       "        vertical-align: middle;\n",
       "    }\n",
       "\n",
       "    .dataframe tbody tr th {\n",
       "        vertical-align: top;\n",
       "    }\n",
       "\n",
       "    .dataframe thead th {\n",
       "        text-align: right;\n",
       "    }\n",
       "</style>\n",
       "<table border=\"1\" class=\"dataframe\">\n",
       "  <thead>\n",
       "    <tr style=\"text-align: right;\">\n",
       "      <th></th>\n",
       "      <th>Sensor1</th>\n",
       "      <th>Sensor2</th>\n",
       "      <th>Sensor3</th>\n",
       "      <th>Sensor4</th>\n",
       "      <th>Sensor5</th>\n",
       "      <th>Sensor6</th>\n",
       "      <th>Sensor7</th>\n",
       "      <th>Room</th>\n",
       "    </tr>\n",
       "  </thead>\n",
       "  <tbody>\n",
       "    <tr>\n",
       "      <th>count</th>\n",
       "      <td>2000.000000</td>\n",
       "      <td>2000.000000</td>\n",
       "      <td>2000.000000</td>\n",
       "      <td>2000.000000</td>\n",
       "      <td>2000.000000</td>\n",
       "      <td>2000.000000</td>\n",
       "      <td>2000.000000</td>\n",
       "      <td>2000.000000</td>\n",
       "    </tr>\n",
       "    <tr>\n",
       "      <th>mean</th>\n",
       "      <td>52.330500</td>\n",
       "      <td>55.623500</td>\n",
       "      <td>54.964000</td>\n",
       "      <td>53.566500</td>\n",
       "      <td>62.640500</td>\n",
       "      <td>80.985000</td>\n",
       "      <td>81.726500</td>\n",
       "      <td>2.500000</td>\n",
       "    </tr>\n",
       "    <tr>\n",
       "      <th>std</th>\n",
       "      <td>11.321677</td>\n",
       "      <td>3.417688</td>\n",
       "      <td>5.316186</td>\n",
       "      <td>11.471982</td>\n",
       "      <td>9.105093</td>\n",
       "      <td>6.516672</td>\n",
       "      <td>6.519812</td>\n",
       "      <td>1.118314</td>\n",
       "    </tr>\n",
       "    <tr>\n",
       "      <th>min</th>\n",
       "      <td>10.000000</td>\n",
       "      <td>45.000000</td>\n",
       "      <td>40.000000</td>\n",
       "      <td>11.000000</td>\n",
       "      <td>36.000000</td>\n",
       "      <td>61.000000</td>\n",
       "      <td>63.000000</td>\n",
       "      <td>1.000000</td>\n",
       "    </tr>\n",
       "    <tr>\n",
       "      <th>25%</th>\n",
       "      <td>46.000000</td>\n",
       "      <td>53.000000</td>\n",
       "      <td>51.000000</td>\n",
       "      <td>46.000000</td>\n",
       "      <td>56.000000</td>\n",
       "      <td>77.000000</td>\n",
       "      <td>78.000000</td>\n",
       "      <td>1.750000</td>\n",
       "    </tr>\n",
       "    <tr>\n",
       "      <th>50%</th>\n",
       "      <td>55.000000</td>\n",
       "      <td>56.000000</td>\n",
       "      <td>55.000000</td>\n",
       "      <td>56.000000</td>\n",
       "      <td>64.000000</td>\n",
       "      <td>82.000000</td>\n",
       "      <td>83.000000</td>\n",
       "      <td>2.500000</td>\n",
       "    </tr>\n",
       "    <tr>\n",
       "      <th>75%</th>\n",
       "      <td>61.000000</td>\n",
       "      <td>58.000000</td>\n",
       "      <td>58.000000</td>\n",
       "      <td>63.000000</td>\n",
       "      <td>69.000000</td>\n",
       "      <td>86.000000</td>\n",
       "      <td>87.000000</td>\n",
       "      <td>3.250000</td>\n",
       "    </tr>\n",
       "    <tr>\n",
       "      <th>max</th>\n",
       "      <td>74.000000</td>\n",
       "      <td>74.000000</td>\n",
       "      <td>73.000000</td>\n",
       "      <td>77.000000</td>\n",
       "      <td>89.000000</td>\n",
       "      <td>97.000000</td>\n",
       "      <td>98.000000</td>\n",
       "      <td>4.000000</td>\n",
       "    </tr>\n",
       "  </tbody>\n",
       "</table>\n",
       "</div>"
      ],
      "text/plain": [
       "           Sensor1      Sensor2      Sensor3      Sensor4      Sensor5  \\\n",
       "count  2000.000000  2000.000000  2000.000000  2000.000000  2000.000000   \n",
       "mean     52.330500    55.623500    54.964000    53.566500    62.640500   \n",
       "std      11.321677     3.417688     5.316186    11.471982     9.105093   \n",
       "min      10.000000    45.000000    40.000000    11.000000    36.000000   \n",
       "25%      46.000000    53.000000    51.000000    46.000000    56.000000   \n",
       "50%      55.000000    56.000000    55.000000    56.000000    64.000000   \n",
       "75%      61.000000    58.000000    58.000000    63.000000    69.000000   \n",
       "max      74.000000    74.000000    73.000000    77.000000    89.000000   \n",
       "\n",
       "           Sensor6      Sensor7         Room  \n",
       "count  2000.000000  2000.000000  2000.000000  \n",
       "mean     80.985000    81.726500     2.500000  \n",
       "std       6.516672     6.519812     1.118314  \n",
       "min      61.000000    63.000000     1.000000  \n",
       "25%      77.000000    78.000000     1.750000  \n",
       "50%      82.000000    83.000000     2.500000  \n",
       "75%      86.000000    87.000000     3.250000  \n",
       "max      97.000000    98.000000     4.000000  "
      ]
     },
     "execution_count": 250,
     "metadata": {},
     "output_type": "execute_result"
    }
   ],
   "source": [
    "data.describe()"
   ]
  },
  {
   "cell_type": "code",
   "execution_count": 251,
   "id": "ca5fe2e4-9e20-43fc-b209-161a1dadddac",
   "metadata": {},
   "outputs": [
    {
     "name": "stdout",
     "output_type": "stream",
     "text": [
      "Room\n",
      "1    500\n",
      "2    500\n",
      "3    500\n",
      "4    500\n",
      "dtype: int64\n"
     ]
    }
   ],
   "source": [
    "print(data.groupby('Room').size())"
   ]
  },
  {
   "cell_type": "code",
   "execution_count": 252,
   "id": "497d1379-d826-4624-8eab-6352ad1af119",
   "metadata": {},
   "outputs": [],
   "source": [
    "X = data[['Sensor1','Sensor2','Sensor3','Sensor4','Sensor5','Sensor6','Sensor7']].values\n",
    "y = data['Room'].values\n",
    " \n",
    "X_train, X_test, y_train, y_test = train_test_split(X, y, random_state=0)\n",
    "scaler = MinMaxScaler()\n",
    "X_train = scaler.fit_transform(X_train)\n",
    "X_test = scaler.transform(X_test)"
   ]
  },
  {
   "cell_type": "code",
   "execution_count": 253,
   "id": "ab30c80c-9e9d-46a7-9ca7-1d09f645041a",
   "metadata": {},
   "outputs": [
    {
     "name": "stdout",
     "output_type": "stream",
     "text": [
      "Accuracy of K-NN classifier on training set: 0.99\n",
      "Accuracy of K-NN classifier on test set: 0.98\n"
     ]
    }
   ],
   "source": [
    "n_neighbors = 7\n",
    " \n",
    "knn = KNeighborsClassifier(n_neighbors)\n",
    "knn.fit(X_train, y_train)\n",
    "print('Accuracy of K-NN classifier on training set: {:.2f}'\n",
    "     .format(knn.score(X_train, y_train)))\n",
    "print('Accuracy of K-NN classifier on test set: {:.2f}'\n",
    "     .format(knn.score(X_test, y_test)))"
   ]
  },
  {
   "cell_type": "code",
   "execution_count": 254,
   "id": "d2eea746-e36b-4bfb-a1ba-f356887595b2",
   "metadata": {},
   "outputs": [
    {
     "name": "stdout",
     "output_type": "stream",
     "text": [
      "[[131   0   1   0]\n",
      " [  0 113   9   0]\n",
      " [  0   1 126   1]\n",
      " [  0   0   0 118]]\n"
     ]
    }
   ],
   "source": [
    "pred = knn.predict(X_test)\n",
    "print(confusion_matrix(y_test, pred))"
   ]
  },
  {
   "cell_type": "code",
   "execution_count": 255,
   "id": "008dacb3-965a-4dab-b18b-b93194382500",
   "metadata": {},
   "outputs": [
    {
     "name": "stdout",
     "output_type": "stream",
     "text": [
      "              precision    recall  f1-score   support\n",
      "\n",
      "           1       1.00      0.99      1.00       132\n",
      "           2       0.99      0.93      0.96       122\n",
      "           3       0.93      0.98      0.95       128\n",
      "           4       0.99      1.00      1.00       118\n",
      "\n",
      "    accuracy                           0.98       500\n",
      "   macro avg       0.98      0.98      0.98       500\n",
      "weighted avg       0.98      0.98      0.98       500\n",
      "\n"
     ]
    }
   ],
   "source": [
    "print(classification_report(y_test, pred))"
   ]
  },
  {
   "cell_type": "code",
   "execution_count": 256,
   "id": "a3a35c11-faee-4f60-b19e-f0dfc589d14c",
   "metadata": {},
   "outputs": [
    {
     "data": {
      "text/plain": [
       "([<matplotlib.axis.XTick at 0x2b1d9163be0>,\n",
       "  <matplotlib.axis.XTick at 0x2b1d9165a60>,\n",
       "  <matplotlib.axis.XTick at 0x2b1d91651f0>,\n",
       "  <matplotlib.axis.XTick at 0x2b1d8ec4670>,\n",
       "  <matplotlib.axis.XTick at 0x2b1d8ec4b80>],\n",
       " [Text(0, 0, ''),\n",
       "  Text(0, 0, ''),\n",
       "  Text(0, 0, ''),\n",
       "  Text(0, 0, ''),\n",
       "  Text(0, 0, '')])"
      ]
     },
     "execution_count": 256,
     "metadata": {},
     "output_type": "execute_result"
    },
    {
     "data": {
      "image/png": "[encoded data removed]",
      "text/plain": [
       "<Figure size 720x720 with 1 Axes>"
      ]
     },
     "metadata": {},
     "output_type": "display_data"
    }
   ],
   "source": [
    "k_range = range(1, 20)\n",
    "scores = []\n",
    "for k in k_range:\n",
    "    knn = KNeighborsClassifier(n_neighbors = k)\n",
    "    knn.fit(X_train, y_train)\n",
    "    scores.append(knn.score(X_test, y_test))\n",
    "\n",
    "fig, ax = plt.subplots(figsize=(10,10))\n",
    "plt.xlabel('k')\n",
    "plt.ylabel('accuracy')\n",
    "plt.scatter(k_range, scores)\n",
    "plt.xticks([0,5,10,15,20])"
   ]
  },
  {
   "cell_type": "markdown",
   "id": "a57476f8-c2b1-4ce3-a117-4397b80028ed",
   "metadata": {},
   "source": [
    "***"
   ]
  },
  {
   "cell_type": "markdown",
   "id": "b68d0e15-7c2a-4e07-bc60-5978bc7573fc",
   "metadata": {},
   "source": [
    "## Random Forest Implementation, by Prism Prajapati"
   ]
  },
  {
   "cell_type": "code",
   "execution_count": 257,
   "id": "89103fbb-3d01-4d2c-88fb-f7a30d784e5f",
   "metadata": {},
   "outputs": [],
   "source": [
    "# Importing the required Libraries\n",
    "import numpy as np\n",
    "import matplotlib.pyplot as plt\n",
    "import seaborn as sns\n",
    "import pandas as pd"
   ]
  },
  {
   "cell_type": "code",
   "execution_count": 280,
   "id": "6bb93589-34de-4ea9-838d-068fcda5e085",
   "metadata": {},
   "outputs": [],
   "source": [
    "#loading data\n",
    "file = pd.read_csv('wifi_localization_data.csv')"
   ]
  },
  {
   "cell_type": "code",
   "execution_count": 281,
   "id": "7edc91ae-0711-460d-af2a-1fe8c7a4da2d",
   "metadata": {},
   "outputs": [],
   "source": [
    "feature_set = file.drop(['Room'], axis=1) # removing the target column from the data frame for selecting the features\n",
    "target_col = file['Room'] # Picking the terget column from the dataframe"
   ]
  },
  {
   "cell_type": "code",
   "execution_count": 282,
   "id": "622c9c07-68bc-4f54-8ebb-d8911a68f4ab",
   "metadata": {},
   "outputs": [],
   "source": [
    "# dividing the dataset into train and test set\n",
    "from sklearn.model_selection import train_test_split\n",
    "f_train, f_test, t_train, t_test = train_test_split(feature_set,target_col,random_state=1)"
   ]
  },
  {
   "cell_type": "code",
   "execution_count": 283,
   "id": "09a81ad6-837b-407c-a70a-654355701f08",
   "metadata": {},
   "outputs": [
    {
     "data": {
      "text/plain": [
       "array([2, 4, 3, 3, 3, 4, 2, 1, 3, 2, 3, 3, 4, 3, 1, 4, 2, 3, 2, 3, 1, 4,\n",
       "       4, 2, 2, 1, 4, 1, 2, 1, 4, 2, 4, 2, 2, 2, 2, 1, 2, 4, 1, 1, 3, 3,\n",
       "       3, 4, 2, 4, 4, 4, 4, 3, 2, 1, 2, 2, 2, 2, 4, 3, 4, 1, 3, 3, 3, 2,\n",
       "       3, 2, 2, 3, 4, 4, 4, 4, 3, 3, 3, 3, 3, 2, 1, 2, 1, 1, 3, 3, 2, 1,\n",
       "       1, 1, 1, 2, 1, 4, 4, 2, 3, 3, 2, 1, 4, 1, 2, 1, 2, 4, 4, 3, 2, 3,\n",
       "       2, 1, 3, 4, 1, 2, 2, 3, 4, 3, 3, 3, 4, 3, 2, 3, 3, 3, 4, 2, 3, 2,\n",
       "       2, 1, 2, 3, 4, 1, 4, 1, 2, 1, 4, 3, 2, 3, 3, 4, 3, 4, 2, 1, 4, 3,\n",
       "       1, 4, 4, 4, 2, 3, 3, 4, 3, 2, 1, 4, 1, 1, 3, 2, 2, 3, 1, 4, 1, 2,\n",
       "       2, 2, 2, 3, 2, 4, 2, 4, 4, 4, 3, 3, 1, 2, 1, 4, 3, 4, 1, 1, 1, 1,\n",
       "       2, 2, 2, 3, 4, 3, 4, 2, 3, 4, 3, 2, 4, 4, 1, 3, 2, 1, 2, 1, 4, 2,\n",
       "       3, 4, 3, 1, 4, 1, 2, 3, 1, 4, 3, 4, 4, 2, 1, 3, 2, 3, 3, 4, 4, 2,\n",
       "       2, 4, 1, 1, 3, 2, 4, 4, 1, 1, 3, 4, 4, 3, 3, 4, 2, 1, 3, 4, 1, 4,\n",
       "       4, 3, 2, 3, 3, 3, 1, 3, 3, 1, 3, 2, 1, 4, 1, 3, 1, 4, 2, 4, 3, 3,\n",
       "       4, 1, 3, 3, 3, 1, 4, 2, 4, 1, 2, 2, 3, 1, 1, 4, 4, 4, 2, 3, 4, 2,\n",
       "       4, 3, 4, 1, 1, 4, 3, 1, 2, 2, 1, 2, 4, 1, 1, 4, 4, 4, 1, 4, 1, 2,\n",
       "       1, 4, 3, 2, 3, 1, 2, 1, 2, 1, 1, 1, 3, 4, 4, 1, 2, 1, 3, 3, 1, 1,\n",
       "       4, 2, 1, 1, 2, 2, 2, 4, 1, 2, 3, 4, 4, 1, 3, 4, 2, 1, 3, 4, 1, 2,\n",
       "       4, 1, 4, 3, 4, 1, 1, 1, 2, 4, 1, 3, 4, 2, 4, 4, 2, 2, 2, 4, 3, 1,\n",
       "       2, 1, 4, 4, 1, 2, 2, 1, 2, 4, 1, 3, 2, 1, 3, 4, 1, 2, 1, 1, 4, 4,\n",
       "       3, 4, 4, 2, 4, 2, 1, 1, 2, 3, 1, 2, 1, 4, 2, 2, 1, 2, 4, 4, 3, 1,\n",
       "       2, 3, 4, 1, 4, 4, 2, 3, 1, 1, 2, 3, 1, 2, 3, 3, 1, 2, 2, 4, 2, 3,\n",
       "       4, 3, 1, 2, 3, 4, 4, 1, 2, 2, 3, 1, 3, 3, 4, 2, 4, 2, 1, 2, 2, 2,\n",
       "       4, 1, 1, 1, 2, 2, 2, 2, 1, 3, 1, 2, 3, 4, 1, 2], dtype=int64)"
      ]
     },
     "execution_count": 283,
     "metadata": {},
     "output_type": "execute_result"
    }
   ],
   "source": [
    "# Importing random forest model from sklearn library\n",
    "from sklearn.ensemble import RandomForestClassifier\n",
    "rf_model = RandomForestClassifier(n_estimators=100, random_state=0)\n",
    "rf_model.fit(f_train, t_train) # Training the model\n",
    "rf_Predicted = rf_model.predict(f_test) # Predicting for test set\n",
    "rf_Predicted"
   ]
  },
  {
   "cell_type": "code",
   "execution_count": 284,
   "id": "24f681c4-fa83-41be-a3b0-b792b7bf83ac",
   "metadata": {},
   "outputs": [
    {
     "data": {
      "text/plain": [
       "0.984"
      ]
     },
     "execution_count": 284,
     "metadata": {},
     "output_type": "execute_result"
    }
   ],
   "source": [
    "# Importing accuracy score\n",
    "from sklearn.metrics import accuracy_score\n",
    "accuracy_score(t_test, rf_Predicted)"
   ]
  },
  {
   "cell_type": "code",
   "execution_count": 285,
   "id": "9a4fdf6e-2ba3-4c13-9894-1a1c4bd71c84",
   "metadata": {},
   "outputs": [
    {
     "name": "stdout",
     "output_type": "stream",
     "text": [
      "              precision    recall  f1-score   support\n",
      "\n",
      "           1       0.99      0.99      0.99       123\n",
      "           2       0.99      0.98      0.99       132\n",
      "           3       0.98      0.96      0.97       121\n",
      "           4       0.97      1.00      0.98       124\n",
      "\n",
      "    accuracy                           0.98       500\n",
      "   macro avg       0.98      0.98      0.98       500\n",
      "weighted avg       0.98      0.98      0.98       500\n",
      "\n"
     ]
    }
   ],
   "source": [
    "print(classification_report(t_test, rf_Predicted))"
   ]
  },
  {
   "cell_type": "code",
   "execution_count": 286,
   "id": "fe2b764b-3574-4b5a-963c-aaecb7983cc6",
   "metadata": {},
   "outputs": [
    {
     "data": {
      "image/png": "[encoded data removed]",
      "text/plain": [
       "<Figure size 720x720 with 2 Axes>"
      ]
     },
     "metadata": {},
     "output_type": "display_data"
    }
   ],
   "source": [
    "# Plotting confusion matrix\n",
    "from sklearn.metrics import confusion_matrix\n",
    "cf_matrix = confusion_matrix(t_test,rf_Predicted)\n",
    "figure, axes = plt.subplots(figsize=(10,10))\n",
    "sns.heatmap(cf_matrix, annot=True, fmt='d')\n",
    "plt.ylabel('Actual Labels')\n",
    "plt.xlabel('Predicted Labels')\n",
    "plt.show()"
   ]
  },
  {
   "cell_type": "markdown",
   "id": "e768a3a3-3a13-45ca-9d00-7b02676acd63",
   "metadata": {},
   "source": [
    "-----"
   ]
  }
 ],
 "metadata": {
  "kernelspec": {
   "display_name": "Python 3",
   "language": "python",
   "name": "python3"
  },
  "language_info": {
   "codemirror_mode": {
    "name": "ipython",
    "version": 3
   },
   "file_extension": ".py",
   "mimetype": "text/x-python",
   "name": "python",
   "nbconvert_exporter": "python",
   "pygments_lexer": "ipython3",
   "version": "3.8.8"
  }
 },
 "nbformat": 4,
 "nbformat_minor": 5
}
